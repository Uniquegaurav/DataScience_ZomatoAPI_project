{
 "cells": [
  {
   "cell_type": "markdown",
   "metadata": {},
   "source": [
    "## PART 1 PROBLEMS\n",
    "#The dataset is highly skewed toward the cities included in Delhi-NCR. So, we will summarise all the \n",
    "#other cities in Rest of India while those in New Delhi, Ghaziabad, \n",
    "#Noida, Gurgaon, Faridabad to Delhi-NCR. Doing this would make our analysis turn toward Delhi-NCR v Rest of India."
   ]
  },
  {
   "cell_type": "code",
   "execution_count": 7,
   "metadata": {},
   "outputs": [
    {
     "name": "stdout",
     "output_type": "stream",
     "text": [
      "7947 705\n"
     ]
    },
    {
     "data": {
      "image/png": "[encoded data removed]",
      "text/plain": [
       "<Figure size 432x288 with 1 Axes>"
      ]
     },
     "metadata": {
      "needs_background": "light"
     },
     "output_type": "display_data"
    }
   ],
   "source": [
    "#QUESTION 1\n",
    "# Plot the bar graph of number of restaurants present in Delhi NCR vs Rest of India.\n",
    "import pandas as pd\n",
    "import numpy as np\n",
    "import matplotlib.pyplot as plt\n",
    "csv_data = pd.read_csv('zomato.csv',encoding =\"latin-1\")\n",
    "csv_data  = csv_data[csv_data[\"Country Code\"]== 1]\n",
    "df = csv_data.copy()\n",
    "total = df.shape[0]\n",
    "NCR_df = df[(df.City =='New Delhi')| (df.City =='Gurgaon')|(df.City =='Noida')|(df.City == 'Ghaziabad')|(df.City=='Faridabad')]\n",
    "ncr = NCR_df.shape[0]\n",
    "rest  = total - ncr\n",
    "print(ncr,rest)\n",
    "bar = plt.bar([\"NCR\",\"REST OF INDIA\"],[ncr,rest])\n",
    "plt.ylabel('Number of Restaurants')\n",
    "bar[0].set_color('y')\n",
    "plt.grid()\n",
    "plt.show()"
   ]
  },
  {
   "cell_type": "code",
   "execution_count": 8,
   "metadata": {},
   "outputs": [
    {
     "name": "stdout",
     "output_type": "stream",
     "text": [
      "['Malwani', 'Cajun', 'German', 'BBQ']\n"
     ]
    }
   ],
   "source": [
    "# QUESTION 2\n",
    "import pandas as pd\n",
    "import numpy as np\n",
    "import matplotlib.pyplot as plt\n",
    "csv_data = pd.read_csv('zomato.csv',encoding =\"latin-1\")\n",
    "csv_data  = csv_data[csv_data[\"Country Code\"]== 1]\n",
    "df = csv_data.copy()\n",
    "def regina(d) :\n",
    "    if d =='New Delhi'or d =='Gurgaon'or d =='Noida'or d == 'Ghaziabad'or d=='Faridabad' :\n",
    "        return 'NCR'\n",
    "    else :\n",
    "        return 'ROI'\n",
    "df['Region'] = df.City.apply(regina)\n",
    "df_ncr = df[df.Region == 'NCR']\n",
    "df_rest = df[df.Region == 'ROI']\n",
    "nc = set()\n",
    "rc = set()\n",
    "for i in df_ncr.Cuisines :\n",
    "    for j in i.strip().split(',') :\n",
    "        nc.add(j.strip())\n",
    "for i in df_rest.Cuisines :\n",
    "    for j in i.strip().split(',') :\n",
    "        rc.add(j.strip())\n",
    "no_cus = []\n",
    "for i in rc: \n",
    "    if i  not in nc :\n",
    "        no_cus.append(i)\n",
    "print(no_cus)"
   ]
  },
  {
   "cell_type": "code",
   "execution_count": 11,
   "metadata": {},
   "outputs": [
    {
     "name": "stdout",
     "output_type": "stream",
     "text": [
      "BBQ is servered in NCR\n",
      "Malwani is servered in NCR\n",
      "-------------------------------------\n",
      "There is lack of data in CSV file as there are some Cuisines which are served by Delhi-NCR restaurant which according to data in CSV files are not\n"
     ]
    }
   ],
   "source": [
    "#Checking using Zomato API whether this cuisines are actually not served in restaurants \n",
    "import requests\n",
    "res = requests.get('https://developers.zomato.com/api/v2.1/cuisines', headers={'user-key':'f3f7015d6d6567621c5086766efa3825'},\n",
    "                   params={'city_id':1})\n",
    "py_data = res.json()\n",
    "for i in py_data['cuisines']:\n",
    "    ncr_cuis_from_api = i['cuisine']['cuisine_name'].strip()\n",
    "    if ncr_cuis_from_api in no_cus:\n",
    "        print(ncr_cuis_from_api,'is servered in NCR')\n",
    "        \n",
    "print(\"-------------------------------------\")\n",
    "print('There is lack of data in CSV file as there are some Cuisines which are served by Delhi-NCR restaurant which according to data in CSV files are not')"
   ]
  },
  {
   "cell_type": "code",
   "execution_count": 5,
   "metadata": {},
   "outputs": [
    {
     "name": "stdout",
     "output_type": "stream",
     "text": [
      "North Indian    3597\n",
      "Chinese         2448\n",
      "Fast Food       1866\n",
      "Mughlai          933\n",
      "Bakery           697\n",
      "South Indian     569\n",
      "Continental      547\n",
      "Desserts         542\n",
      "Street Food      538\n",
      "Italian          535\n",
      "Name: 0, dtype: int64\n",
      "North Indian    349\n",
      "Chinese         242\n",
      "Continental     177\n",
      "Italian         147\n",
      "Cafe            136\n",
      "Fast Food        97\n",
      "South Indian     62\n",
      "Mughlai          59\n",
      "Desserts         55\n",
      "Mexican          50\n",
      "Name: 0, dtype: int64\n"
     ]
    }
   ],
   "source": [
    "# QUESTION 3\n",
    "# Find the top 10 cuisines served by maximum number of restaurants in Delhi NCR and rest of India.\n",
    "import pandas as pd\n",
    "import numpy as np\n",
    "import matplotlib.pyplot as plt\n",
    "csv_data = pd.read_csv('zomato.csv',encoding =\"latin-1\")\n",
    "csv_data  = csv_data[csv_data[\"Country Code\"]== 1]\n",
    "df = csv_data.copy()\n",
    "def regina(d) :\n",
    "    if d =='New Delhi'or d =='Gurgaon'or d =='Noida'or d == 'Ghaziabad'or d=='Faridabad' :\n",
    "        return 'NCR'\n",
    "    else :\n",
    "        return 'ROI'\n",
    "df['Region'] = df.City.apply(regina)\n",
    "df_ncr = df[df.Region == 'NCR']\n",
    "df_rest = df[df.Region == 'ROI']\n",
    "nc = []\n",
    "rc = []\n",
    "for i in df_ncr.Cuisines :\n",
    "    for j in i.strip().split(',') :\n",
    "        nc.append(j.strip())\n",
    "for i in df_rest.Cuisines :\n",
    "    for j in i.strip().split(',') :\n",
    "        rc.append(j.strip())\n",
    "dfcus_ncr = pd.DataFrame(nc)\n",
    "dfcus_rest = pd.DataFrame(rc)\n",
    "topcuisines_ncr  = dfcus_ncr[0].value_counts()[:10]\n",
    "topcuisines_rest = dfcus_rest[0].value_counts()[:10]\n",
    "print(topcuisines_ncr)\n",
    "print(topcuisines_rest)"
   ]
  },
  {
   "cell_type": "code",
   "execution_count": 6,
   "metadata": {},
   "outputs": [
    {
     "data": {
      "image/png": "[encoded data removed]",
      "text/plain": [
       "<Figure size 720x504 with 1 Axes>"
      ]
     },
     "metadata": {
      "needs_background": "light"
     },
     "output_type": "display_data"
    }
   ],
   "source": [
    "#QUESTION 4\n",
    "#Write a short detailed analysis of how cuisine served \n",
    "#is different from Delhi NCR to Rest of India. Plot the suitable graph to explain your inference.\n",
    "import matplotlib.pyplot as plt\n",
    "cuisines_NCR = topcuisines_ncr.index\n",
    "count_NCR = topcuisines_ncr.values\n",
    "cuisines_ROI = topcuisines_rest.index\n",
    "count_ROI = topcuisines_rest.values\n",
    "plt.figure(figsize =(10, 7)) \n",
    "plt.bar(cuisines_NCR,count_NCR,color ='maroon',label ='NCR')\n",
    "plt.bar(cuisines_ROI,count_ROI,color ='orange',label ='REST OF INDIA')\n",
    "plt.xlabel('CUISINES TYPE', fontweight ='bold') \n",
    "plt.ylabel('NUMBER OF RESTAURANTS', fontweight ='bold') \n",
    "plt.grid()\n",
    "plt.legend()\n",
    "plt.xticks(rotation = 40)\n",
    "plt.show()"
   ]
  }
 ],
 "metadata": {
  "kernelspec": {
   "display_name": "Python 3",
   "language": "python",
   "name": "python3"
  },
  "language_info": {
   "codemirror_mode": {
    "name": "ipython",
    "version": 3
   },
   "file_extension": ".py",
   "mimetype": "text/x-python",
   "name": "python",
   "nbconvert_exporter": "python",
   "pygments_lexer": "ipython3",
   "version": "3.7.0"
  }
 },
 "nbformat": 4,
 "nbformat_minor": 2
}
